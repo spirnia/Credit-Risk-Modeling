{
 "cells": [
  {
   "cell_type": "code",
   "execution_count": 74,
   "metadata": {},
   "outputs": [],
   "source": [
    "import warnings\n",
    "warnings.filterwarnings(\"ignore\")"
   ]
  },
  {
   "cell_type": "code",
   "execution_count": 75,
   "metadata": {},
   "outputs": [],
   "source": [
    "import pandas as pd \n",
    "import numpy as np \n",
    "\n",
    "from xgboost import XGBClassifier,DMatrix,train\n",
    "from xgboost.callback import EarlyStopping\n",
    "from xgboost import cv\n",
    "\n",
    "from sklearn.metrics import f1_score,confusion_matrix,roc_auc_score,recall_score,accuracy_score\n",
    "from sklearn.model_selection import train_test_split,GridSearchCV\n",
    "from sklearn.utils import resample"
   ]
  },
  {
   "cell_type": "code",
   "execution_count": 76,
   "metadata": {},
   "outputs": [],
   "source": [
    "X_train=np.array(pd.read_csv('C:\\workspace\\Credit-Risk-Modeling\\dataset\\kaggle_pd_estimation\\X_train.csv',index_col=0))\n",
    "y_train=np.array(pd.read_csv('C:\\workspace\\Credit-Risk-Modeling\\dataset\\kaggle_pd_estimation\\y_train.csv',index_col=0)).reshape(-1)\n",
    "\n",
    "X_test=np.array(pd.read_csv('C:\\workspace\\Credit-Risk-Modeling\\dataset\\kaggle_pd_estimation\\X_test.csv',index_col=0))\n",
    "y_test=np.array(pd.read_csv('C:\\workspace\\Credit-Risk-Modeling\\dataset\\kaggle_pd_estimation\\y_test.csv',index_col=0)).reshape(-1)"
   ]
  },
  {
   "cell_type": "code",
   "execution_count": 77,
   "metadata": {},
   "outputs": [],
   "source": [
    "train_np=np.concatenate((X_train,y_train.reshape(-1,1)),axis=1)"
   ]
  },
  {
   "cell_type": "code",
   "execution_count": 78,
   "metadata": {},
   "outputs": [],
   "source": [
    "param={'n_estimators':list(np.linspace(0,2000,20)),'max_depth':[3,5,8,12,15],'eta':list(np.linspace(0.01,0.2,10)),'objective':'binary:logistic','tree_method':'hist'}"
   ]
  },
  {
   "cell_type": "code",
   "execution_count": 79,
   "metadata": {},
   "outputs": [],
   "source": [
    "def make_balance(fit_df):\n",
    "    fit_df_0=fit_df[fit_df[:,-1]==0]\n",
    "    fit_df_1=fit_df[fit_df[:,-1]==1]\n",
    "    max_count=np.floor(len(fit_df_0)/len(fit_df_1))\n",
    "    residuals=int(len(fit_df_0)-max_count*len(fit_df_1))\n",
    "    balance_count=1\n",
    "    fit_df2=np.array(pd.DataFrame(fit_df_1).copy())\n",
    "    while balance_count<max_count:\n",
    "        fit_df2=np.concatenate((fit_df2,fit_df_1))\n",
    "        balance_count=balance_count+1\n",
    "    fit_df2=np.concatenate((fit_df2,resample(fit_df_1,replace=False,n_samples=residuals)))\n",
    "    fit_df2=np.concatenate((fit_df2,fit_df_0))\n",
    "    fit_df2=resample(fit_df2,replace=False,n_samples=len(fit_df2))\n",
    "    return fit_df2"
   ]
  },
  {
   "cell_type": "code",
   "execution_count": 80,
   "metadata": {},
   "outputs": [],
   "source": [
    "def ensemble_xgb(train_np,params,test_size=0.3):\n",
    "    n_estimators=params['n_estimators']\n",
    "    object=params['objective']\n",
    "    tree_method=params['tree_method']\n",
    "    depth_list=params['max_depth']\n",
    "    eta_list=params['eta']\n",
    "    model_dic={}\n",
    "    model_number=1\n",
    "    \n",
    "    fit_df,val_df=train_test_split(train_np,random_state=None,test_size=test_size,stratify=train_np[:,-1])\n",
    "    fit_df2=make_balance(fit_df) \n",
    "\n",
    "    X_fit=fit_df2[:,:-1]\n",
    "    y_fit=fit_df2[:,-1]\n",
    "\n",
    "    X_val=val_df[:,:-1]\n",
    "    y_val=val_df[:,-1]\n",
    "\n",
    "    for i in depth_list:\n",
    "        for j in eta_list:\n",
    "            for k in n_estimators:\n",
    "                model=XGBClassifier(n_estimators=np.round(k),objective=object,tree_method=tree_method,\n",
    "                                    learning_rate=j,max_depth=i,n_jobs=-1).fit(X_fit,y_fit)\n",
    "                pred=model.predict(X_val)\n",
    "                f_1_accuracy_score=f1_score(y_val,pred)\n",
    "                model_dic['model_number_{}'.format(model_number)]=\\\n",
    "                    {'n_estimators':k,'max_depth':i,'learning_rate':j,'accuracy_score':f_1_accuracy_score}\n",
    "                print(model_dic['model_number_{}'.format(model_number)])\n",
    "                model_number=model_number+1\n",
    "\n",
    "\n",
    "    model_df=pd.DataFrame(model_dic)\n",
    "    \n",
    "    return model_df\n"
   ]
  },
  {
   "cell_type": "code",
   "execution_count": 84,
   "metadata": {},
   "outputs": [
    {
     "name": "stdout",
     "output_type": "stream",
     "text": [
      "{'n_estimators': 100, 'max_depth': 3, 'learning_rate': 0.3, 'accuracy_score': 0.7702432045779686}\n",
      "{'n_estimators': 358, 'max_depth': 3, 'learning_rate': 0.3, 'accuracy_score': 0.7980266976204295}\n",
      "{'n_estimators': 616, 'max_depth': 3, 'learning_rate': 0.3, 'accuracy_score': 0.7967193907439953}\n",
      "{'n_estimators': 874, 'max_depth': 3, 'learning_rate': 0.3, 'accuracy_score': 0.799882283696292}\n",
      "{'n_estimators': 1132, 'max_depth': 3, 'learning_rate': 0.3, 'accuracy_score': 0.800834824090638}\n",
      "{'n_estimators': 1389, 'max_depth': 3, 'learning_rate': 0.3, 'accuracy_score': 0.8}\n",
      "{'n_estimators': 1647, 'max_depth': 3, 'learning_rate': 0.3, 'accuracy_score': 0.8018018018018018}\n",
      "{'n_estimators': 1905, 'max_depth': 3, 'learning_rate': 0.3, 'accuracy_score': 0.800478612025127}\n",
      "{'n_estimators': 2163, 'max_depth': 3, 'learning_rate': 0.3, 'accuracy_score': 0.7985546522131888}\n",
      "{'n_estimators': 2421, 'max_depth': 3, 'learning_rate': 0.3, 'accuracy_score': 0.7981845688350984}\n",
      "{'n_estimators': 2679, 'max_depth': 3, 'learning_rate': 0.3, 'accuracy_score': 0.7974568574023616}\n",
      "{'n_estimators': 2937, 'max_depth': 3, 'learning_rate': 0.3, 'accuracy_score': 0.7997572815533981}\n",
      "{'n_estimators': 3195, 'max_depth': 3, 'learning_rate': 0.3, 'accuracy_score': 0.7996357012750456}\n",
      "{'n_estimators': 3453, 'max_depth': 3, 'learning_rate': 0.3, 'accuracy_score': 0.7966101694915254}\n",
      "{'n_estimators': 3711, 'max_depth': 3, 'learning_rate': 0.3, 'accuracy_score': 0.7981735159817351}\n",
      "{'n_estimators': 3968, 'max_depth': 3, 'learning_rate': 0.3, 'accuracy_score': 0.7950121654501215}\n",
      "{'n_estimators': 4226, 'max_depth': 3, 'learning_rate': 0.3, 'accuracy_score': 0.7979274611398964}\n",
      "{'n_estimators': 4484, 'max_depth': 3, 'learning_rate': 0.3, 'accuracy_score': 0.7990240927111926}\n",
      "{'n_estimators': 4742, 'max_depth': 3, 'learning_rate': 0.3, 'accuracy_score': 0.7982911199267623}\n",
      "{'n_estimators': 5000, 'max_depth': 3, 'learning_rate': 0.3, 'accuracy_score': 0.7975609756097561}\n",
      "{'n_estimators': 100, 'max_depth': 3, 'learning_rate': 0.2, 'accuracy_score': 0.7685664939550951}\n",
      "{'n_estimators': 358, 'max_depth': 3, 'learning_rate': 0.2, 'accuracy_score': 0.7965065502183405}\n",
      "{'n_estimators': 616, 'max_depth': 3, 'learning_rate': 0.2, 'accuracy_score': 0.7990654205607476}\n",
      "{'n_estimators': 874, 'max_depth': 3, 'learning_rate': 0.2, 'accuracy_score': 0.7982430453879943}\n",
      "{'n_estimators': 1132, 'max_depth': 3, 'learning_rate': 0.2, 'accuracy_score': 0.8010610079575596}\n",
      "{'n_estimators': 1389, 'max_depth': 3, 'learning_rate': 0.2, 'accuracy_score': 0.7989323843416369}\n",
      "{'n_estimators': 1647, 'max_depth': 3, 'learning_rate': 0.2, 'accuracy_score': 0.8004764740917213}\n",
      "{'n_estimators': 1905, 'max_depth': 3, 'learning_rate': 0.2, 'accuracy_score': 0.7990444908928039}\n",
      "{'n_estimators': 2163, 'max_depth': 3, 'learning_rate': 0.2, 'accuracy_score': 0.8005988023952096}\n",
      "{'n_estimators': 2421, 'max_depth': 3, 'learning_rate': 0.2, 'accuracy_score': 0.7968843618933492}\n",
      "{'n_estimators': 2679, 'max_depth': 3, 'learning_rate': 0.2, 'accuracy_score': 0.7974835230677051}\n",
      "{'n_estimators': 2937, 'max_depth': 3, 'learning_rate': 0.2, 'accuracy_score': 0.7954409118176364}\n",
      "{'n_estimators': 3195, 'max_depth': 3, 'learning_rate': 0.2, 'accuracy_score': 0.7971145175834083}\n",
      "{'n_estimators': 3453, 'max_depth': 3, 'learning_rate': 0.2, 'accuracy_score': 0.7981900452488687}\n",
      "{'n_estimators': 3711, 'max_depth': 3, 'learning_rate': 0.2, 'accuracy_score': 0.7983117274645763}\n",
      "{'n_estimators': 3968, 'max_depth': 3, 'learning_rate': 0.2, 'accuracy_score': 0.7986718985813461}\n",
      "{'n_estimators': 4226, 'max_depth': 3, 'learning_rate': 0.2, 'accuracy_score': 0.7975867269984918}\n",
      "{'n_estimators': 4484, 'max_depth': 3, 'learning_rate': 0.2, 'accuracy_score': 0.7955367913148372}\n",
      "{'n_estimators': 4742, 'max_depth': 3, 'learning_rate': 0.2, 'accuracy_score': 0.7981845688350984}\n",
      "{'n_estimators': 5000, 'max_depth': 3, 'learning_rate': 0.2, 'accuracy_score': 0.7980564834497418}\n",
      "{'n_estimators': 100, 'max_depth': 3, 'learning_rate': 0.1, 'accuracy_score': 0.7456859971711457}\n",
      "{'n_estimators': 358, 'max_depth': 3, 'learning_rate': 0.1, 'accuracy_score': 0.7803468208092486}\n",
      "{'n_estimators': 616, 'max_depth': 3, 'learning_rate': 0.1, 'accuracy_score': 0.792188866219761}\n",
      "{'n_estimators': 874, 'max_depth': 3, 'learning_rate': 0.1, 'accuracy_score': 0.7929028504944735}\n",
      "{'n_estimators': 1132, 'max_depth': 3, 'learning_rate': 0.1, 'accuracy_score': 0.7988372093023256}\n",
      "{'n_estimators': 1389, 'max_depth': 3, 'learning_rate': 0.1, 'accuracy_score': 0.8008177570093458}\n",
      "{'n_estimators': 1647, 'max_depth': 3, 'learning_rate': 0.1, 'accuracy_score': 0.8021015761821365}\n",
      "{'n_estimators': 1905, 'max_depth': 3, 'learning_rate': 0.1, 'accuracy_score': 0.7994126284875183}\n",
      "{'n_estimators': 2163, 'max_depth': 3, 'learning_rate': 0.1, 'accuracy_score': 0.8044692737430167}\n",
      "{'n_estimators': 2421, 'max_depth': 3, 'learning_rate': 0.1, 'accuracy_score': 0.8009395184967704}\n",
      "{'n_estimators': 2679, 'max_depth': 3, 'learning_rate': 0.1, 'accuracy_score': 0.8023564064801177}\n",
      "{'n_estimators': 2937, 'max_depth': 3, 'learning_rate': 0.1, 'accuracy_score': 0.8030751034890597}\n",
      "{'n_estimators': 3195, 'max_depth': 3, 'learning_rate': 0.1, 'accuracy_score': 0.8016602431070263}\n",
      "{'n_estimators': 3453, 'max_depth': 3, 'learning_rate': 0.1, 'accuracy_score': 0.8009506833036244}\n",
      "{'n_estimators': 3711, 'max_depth': 3, 'learning_rate': 0.1, 'accuracy_score': 0.7997619756024992}\n",
      "{'n_estimators': 3968, 'max_depth': 3, 'learning_rate': 0.1, 'accuracy_score': 0.8005979073243648}\n",
      "{'n_estimators': 4226, 'max_depth': 3, 'learning_rate': 0.1, 'accuracy_score': 0.8010784901138406}\n"
     ]
    }
   ],
   "source": [
    "param1={'n_estimators':list(pd.Series(np.round(np.linspace(100,5000,20))).astype(int)),'max_depth':[3,5,8,12,15],'eta':[0.3,0.2,0.1,0.05],'objective':'binary:logistic','tree_method':'hist'}\n",
    "selected_model1=ensemble_xgb(train_np,param1)"
   ]
  },
  {
   "cell_type": "code",
   "execution_count": 72,
   "metadata": {},
   "outputs": [
    {
     "data": {
      "text/plain": [
       "[100, 644, 1189, 1733, 2278, 2822, 3367, 3911, 4456, 5000]"
      ]
     },
     "execution_count": 72,
     "metadata": {},
     "output_type": "execute_result"
    }
   ],
   "source": [
    "list(pd.Series(np.round(np.linspace(100,5000,10))).astype(int))"
   ]
  },
  {
   "cell_type": "code",
   "execution_count": 55,
   "metadata": {},
   "outputs": [
    {
     "data": {
      "text/plain": [
       "1.0    20378\n",
       "0.0    20378\n",
       "Name: count, dtype: int64"
      ]
     },
     "execution_count": 55,
     "metadata": {},
     "output_type": "execute_result"
    }
   ],
   "source": [
    "train_np2=make_balance(train_np)\n",
    "pd.Series(train_np2[:,-1]).value_counts()"
   ]
  },
  {
   "cell_type": "code",
   "execution_count": 56,
   "metadata": {},
   "outputs": [],
   "source": [
    "X_train=train_np2[:,:-1]\n",
    "y_train=train_np2[:,-1]\n",
    "model=XGBClassifier(n_estimators=5000,max_depth=15,learning_rate=0.01,objective='binary:logistic',tree_method='hist').fit(X_train,y_train)"
   ]
  },
  {
   "cell_type": "code",
   "execution_count": 57,
   "metadata": {},
   "outputs": [
    {
     "data": {
      "text/plain": [
       "array([[5002,   93],\n",
       "       [ 340, 1082]], dtype=int64)"
      ]
     },
     "execution_count": 57,
     "metadata": {},
     "output_type": "execute_result"
    }
   ],
   "source": [
    "pred=model.predict(X_test)\n",
    "confusion_matrix(y_test,pred)"
   ]
  },
  {
   "cell_type": "code",
   "execution_count": 58,
   "metadata": {},
   "outputs": [
    {
     "data": {
      "text/plain": [
       "0.9335583857603191"
      ]
     },
     "execution_count": 58,
     "metadata": {},
     "output_type": "execute_result"
    }
   ],
   "source": [
    "accuracy_score(y_test,pred)"
   ]
  },
  {
   "cell_type": "code",
   "execution_count": 59,
   "metadata": {},
   "outputs": [
    {
     "data": {
      "text/plain": [
       "0.8332691567192915"
      ]
     },
     "execution_count": 59,
     "metadata": {},
     "output_type": "execute_result"
    }
   ],
   "source": [
    "f1_score(y_test,pred)"
   ]
  },
  {
   "cell_type": "code",
   "execution_count": 60,
   "metadata": {},
   "outputs": [
    {
     "data": {
      "text/plain": [
       "0.7609001406469761"
      ]
     },
     "execution_count": 60,
     "metadata": {},
     "output_type": "execute_result"
    }
   ],
   "source": [
    "recall_score(y_test,pred)"
   ]
  }
 ],
 "metadata": {
  "kernelspec": {
   "display_name": "credit_risk",
   "language": "python",
   "name": "python3"
  },
  "language_info": {
   "codemirror_mode": {
    "name": "ipython",
    "version": 3
   },
   "file_extension": ".py",
   "mimetype": "text/x-python",
   "name": "python",
   "nbconvert_exporter": "python",
   "pygments_lexer": "ipython3",
   "version": "3.10.13"
  }
 },
 "nbformat": 4,
 "nbformat_minor": 2
}
